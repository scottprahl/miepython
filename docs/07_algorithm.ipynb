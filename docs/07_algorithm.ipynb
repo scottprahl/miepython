{
 "cells": [
  {
   "cell_type": "markdown",
   "metadata": {},
   "source": [
    "# Mie Scattering Algorithms\n",
    "\n",
    "**Scott Prahl**\n",
    "\n",
    "**Jan 2022**\n",
    "\n",
    "This Jupyter notebook shows the formulas used in `miepython`.  This code is heavily influenced by Wiscomes MIEV0 code as documented in his [paper on Mie scattering](https://www.researchgate.net/publication/41895770_Improved_Mie_Scattering_Algorithms) and his [1979 NCAR](https://www.researchgate.net/publication/253485579_Mie_Scattering_Calculations_Advances_in_Technique_and_Fast_Vector-speed_Computer_Codes) and [1996 NCAR](http://dust.ess.uci.edu/ppr/ppr_Wis79.pdf) publications.\n",
    "\n",
    "There are a couple of things that set this code apart from other python Mie codes.  \n",
    "\n",
    "1) Instead of using the built-in special functions from SciPy, the calculation relies on the logarthmic derivative of the Ricatti-Bessel functions.  This technique is significantly more accurate.\n",
    "\n",
    "2) The code uses special cases for small spheres.  This is faster and more accurate\n",
    "\n",
    "3) The code works when the index of refraction `m.real` is zero or when `m.imag` is very large (negative).\n",
    "\n",
    "The code has been tested up to sizes ($x=2\\pi r/\\lambda=10000$).\n",
    "\n",
    "*If miepython is not installed, uncomment the following cell (i.e., delete the #) and run (shift-enter)*"
   ]
  },
  {
   "cell_type": "code",
   "execution_count": 1,
   "metadata": {},
   "outputs": [],
   "source": [
    "#!pip install --user miepython"
   ]
  },
  {
   "cell_type": "code",
   "execution_count": 2,
   "metadata": {},
   "outputs": [],
   "source": [
    "import numpy as np\n",
    "import matplotlib.pyplot as plt\n",
    "\n",
    "try:\n",
    "    import miepython.miepython as miepython\n",
    "\n",
    "except ModuleNotFoundError:\n",
    "    print(\"miepython not installed. To install, uncomment and run the cell above.\")\n",
    "    print(\"Once installation is successful, rerun this cell again.\")"
   ]
  },
  {
   "cell_type": "markdown",
   "metadata": {},
   "source": [
    "## The logarithmic derivative $D_n$.\n",
    "\n",
    "This routine uses a continued fraction method to compute $D_n(z)$\n",
    "proposed by Lentz. *Lentz uses the notation $A_n$ \n",
    "instead of $D_n$, but I prefer the notation used by Bohren and Huffman.*\n",
    "This method eliminates many weaknesses in previous algorithms using\n",
    "forward recursion. \n",
    "\n",
    "The logarithmic derivative $D_n$ is defined as\n",
    "\n",
    "$$\n",
    "D_n = -\\frac{n}{z} + \\frac{J_{n-1/2}(z)}{J_{n+1/2}(z)} \n",
    "$$\n",
    "\n",
    "Equation (5) in Lentz's paper can be used to obtain\n",
    "\n",
    "$$\n",
    "\\frac{J_{n-1/2}(z)}{J_{n+1/2}(z)} =\n",
    "{2n+1 \\over z} + {1\\over\\displaystyle -\\frac{2n+3}{z} +\n",
    "                  {\\strut 1 \\over\\displaystyle \\frac{2n+5}{z} +\n",
    "                      {\\strut 1 \\over\\displaystyle -\\frac{2n+7}{z} + \\cdots}}}\n",
    "$$\n",
    "\n",
    "Now if\n",
    "\n",
    "$$\n",
    "\\alpha_{i,j}=[a_i,a_{i-1},\\ldots,a_j] = a_i + \\frac{1}{\\displaystyle a_{i-1} +\n",
    "                  \\frac{\\strut 1}{\\displaystyle a_{i-2} + \\cdots\n",
    "                      \\frac{\\strut 1 }{\\displaystyle a_j}}}\n",
    "$$\n",
    "\n",
    "we seek to create \n",
    "\n",
    "$$\n",
    "\\alpha = \\alpha_{1,1}\\,\\alpha_{2,1}\\cdots \\alpha_{j,1} \n",
    "\\qquad\n",
    "\\beta = \\alpha_{2,2}\\,\\alpha_{3,2}\\cdots \\alpha_{j,2} \n",
    "$$\n",
    "\n",
    "since Lentz showed that\n",
    "\n",
    "$$\n",
    "\\frac{J_{n-1/2}(z)}{J_{n+1/2}(z)} \\approx \\frac{\\alpha}{\\beta}\n",
    "$$\n",
    "\n",
    "The whole goal is to iterate until the $\\alpha$ and $\\beta$\n",
    "are identical to the number of digits desired. Once this is\n",
    "achieved, then use equations this equation and the first equation for\n",
    "the logarithmic derivative to calculate\n",
    "$D_n(z)$."
   ]
  },
  {
   "cell_type": "markdown",
   "metadata": {},
   "source": [
    "### First terms\n",
    "\n",
    "The value of $a_j$ is\n",
    "\n",
    "$$\n",
    "a_j = (-1)^{j+1} {2n+2j-1\\over z}\n",
    "$$\n",
    "\n",
    "The first terms for $\\alpha$ and $\\beta$ are then\n",
    "\n",
    "$$\n",
    "\\alpha = a_1 \\left(a_2 + \\frac{1}{a_1}\\right)\n",
    "\\qquad\n",
    "\\beta = a_2\n",
    "$$"
   ]
  },
  {
   "cell_type": "markdown",
   "metadata": {},
   "source": [
    "### Later terms\n",
    "\n",
    "To calculate the next $\\alpha$ and $\\beta$, I use\n",
    "\n",
    "$$\n",
    "a_{j+1} =  -a_j+(-1)^j\\,{2\\over z}\n",
    "$$\n",
    "\n",
    "to find the next $a_j$ and\n",
    "\n",
    "$$\n",
    "\\alpha_{j+1} = a_j + \\frac{1}{\\alpha_j},\n",
    "\\qquad\\hbox{and}\\qquad\n",
    "\\beta_{j+1} = a_j + \\frac{1}{\\beta_j}\n",
    "$$"
   ]
  },
  {
   "cell_type": "markdown",
   "metadata": {},
   "source": [
    "### Calculating $D_n$\n",
    "\n",
    "Use formula 7 from Wiscombe's paper to figure out if upwards or downwards recurrence should be used.  Namely if\n",
    "\n",
    "$$\n",
    "m_{\\rm Im}x\\le 13.78 m_{\\rm Re}^2 - 10.8 m_{\\rm Re} + 3.9\n",
    "$$\n",
    "\n",
    "the upward recurrence would be stable.\n",
    "\n",
    "The returned array `D` is set-up so that $D_n(z)=$ `D[n]`.  Therefore the first value for $D_1(z)$ will not be `D[0]`, but rather  `D[1]`."
   ]
  },
  {
   "cell_type": "markdown",
   "metadata": {},
   "source": [
    "### $D_n$ by downwards recurrence.\n",
    "\n",
    "Start downwards recurrence using by accurately calculating `D[nstop]` using the Lentz method, then find earlier\n",
    "terms of the logarithmic derivative $D_n(z)$ using the recurrence relation,\n",
    "\n",
    "$$\n",
    "D_{n-1}(z) = \\frac{n}{z} - \\frac{1}{D_n(z) + n/z}\n",
    "$$\n",
    "\n",
    "This is a pretty straightforward procedure.\n",
    "  "
   ]
  },
  {
   "cell_type": "markdown",
   "metadata": {},
   "source": [
    "### $D_n$ by upward recurrence.\n",
    "\n",
    "Calculating the logarithmic derivative $D_n(\\rho)$ using the upward recurrence relation,\n",
    "\n",
    "$$\n",
    "D_n(z) = \\frac{1}{n/z - D_{n-1}(z)}-\\frac{n}{z}\n",
    "$$\n",
    "\n",
    "To calculate the initial value `D[1]` we use Wiscombe's representation that avoids overflow errors when the usual $D_0(x)=1/tan(z)$ is used.\n",
    "\n",
    "$$\n",
    "D_1(z) = -\\frac{1}{z}+\\frac{1-\\exp(-2jz)}{[1-\\exp(-2jz)]/z - j[1+\\exp(-2jz)]}\n",
    "$$"
   ]
  },
  {
   "cell_type": "code",
   "execution_count": 3,
   "metadata": {
    "scrolled": true
   },
   "outputs": [
    {
     "name": "stdout",
     "output_type": "stream",
     "text": [
      "both techniques work up to 5\n",
      "    Lentz 5 5.922678838321971\n",
      "downwards 5 5.922678838321968\n",
      "  upwards 5 5.922678842006903\n",
      "but upwards fails badly by n=9\n",
      "    Lentz 9 9.952281984945753\n",
      "downwards 9 9.952281984945756\n",
      "  upwards 9 67.02345742657965\n"
     ]
    }
   ],
   "source": [
    "m = 1\n",
    "x = 1\n",
    "nstop = 10\n",
    "\n",
    "dn = np.zeros(nstop, dtype=np.complex128)\n",
    "\n",
    "print(\"both techniques work up to 5\")\n",
    "n = 5\n",
    "print(\"    Lentz\", n, miepython._Lentz_Dn(m * x, n).real)\n",
    "miepython._D_downwards(m * x, nstop, dn)\n",
    "print(\"downwards\", n, dn[n].real)\n",
    "miepython._D_upwards(m * x, nstop, dn)\n",
    "print(\"  upwards\", n, dn[n].real)\n",
    "\n",
    "print(\"but upwards fails badly by n=9\")\n",
    "n = 9\n",
    "print(\"    Lentz\", n, miepython._Lentz_Dn(m * x, n).real)\n",
    "miepython._D_downwards(m * x, nstop, dn)\n",
    "print(\"downwards\", n, dn[n].real)\n",
    "miepython._D_upwards(m * x, nstop, dn)\n",
    "print(\"  upwards\", n, dn[n].real)"
   ]
  },
  {
   "cell_type": "markdown",
   "metadata": {},
   "source": [
    "## Calculating $A_n$ and $B_n$\n",
    "\n",
    "OK,  Here we go.  We need to start up the arrays.  First, recall\n",
    "(page 128 Bohren and Huffman) that\n",
    "\n",
    "$$\n",
    "\\psi_n(x) = x j_n(x)\\qquad\\hbox{and}\\qquad \\xi_n(x) = x j_n(x) + i x y_n(x)\n",
    "$$\n",
    "\n",
    "where $j_n$ and $y_n$ are spherical Bessel functions.  The first few terms\n",
    "may be worked out as,\n",
    "\n",
    "$$\n",
    "\\psi_0(x) = \\sin x \n",
    "\\qquad\\hbox{and}\\qquad\n",
    "\\psi_1(x) = \\frac{\\sin x}{x} - \\cos x\n",
    "$$\n",
    "\n",
    "and\n",
    "\n",
    "$$\n",
    "\\xi_0(x) = \\psi_0 + i \\cos x\n",
    "\\qquad\\hbox{and}\\qquad\n",
    "\\xi_1(x) = \\psi_1 + i \\left[\\frac{\\cos x}{x} + \\sin x\\right]\n",
    "$$\n",
    "\n",
    "The main equations for $a_n$ and $b_n$ in Bohren and Huffman Equation (4.88).\n",
    "\n",
    "$$\n",
    "a_n = \\frac{\\Big[ D_n(mx)/m + n/x\\Big] \\psi_n(x)-\\psi_{n-1}(x)}\n",
    "           {\\Big[ D_n(mx)/m + n/x\\Big] \\xi_n(x)- \\xi_{n-1}(x)}\n",
    "$$\n",
    "\n",
    "and\n",
    "\n",
    "$$\n",
    "b_n = \\frac{\\Big[m D_n(mx) + n/x\\Big] \\psi_n(x)-\\psi_{n-1}(x)}\n",
    "           {\\Big[m D_n(mx) + n/x\\Big] \\xi_n(x)- \\xi_{n-1}(x)}\n",
    "$$\n",
    "\n",
    "The recurrence relations for $\\psi$ and $\\xi$ depend on the recursion relations\n",
    "for the spherical Bessel functions (page 96 equation 4.11)\n",
    "\n",
    "$$\n",
    "z_{n-1}(x) + z_{n+1}(x) = {2n+1\\over x} z_n(x)\n",
    "$$\n",
    "\n",
    "where $z_n$ might be either $j_n$ or $y_n$.   Thus\n",
    "\n",
    "$$\n",
    "\\psi_{n+1}(x) = {2n+1\\over x} \\psi_n(x) - \\psi_{n-1}(x)\n",
    "\\qquad\\hbox{and}\\qquad\n",
    "\\xi_{n+1}(x) = {2n+1\\over x} \\xi_n(x) - \\xi_{n-1}(x)\n",
    "$$\n",
    "\n",
    "If the spheres are perfectly reflecting `m.real=0` then Kerker gives\n",
    "equations for $a_n$ and $b_n$ that do not depend on $D_n$ at all\n",
    "\n",
    "$$\n",
    "a_n = \\frac{n\\psi_n(x)/x-\\psi_{n-1}(x)}\n",
    "           {n\\xi_n(x)/x- \\xi_{n-1}(x)}\n",
    "$$\n",
    "\n",
    "and\n",
    "\n",
    "$$\n",
    "b_n = \\frac{\\psi_n(x)}{\\xi_n(x)}\n",
    "$$\n",
    "\n",
    "Therefore `D[n]` will directly correspond to $D_n$ in Bohren.  However, `a` and `b` will be zero based arrays and so $a_1$=`a[0]` or $b_n$=`b[n-1]`\n"
   ]
  },
  {
   "cell_type": "code",
   "execution_count": 4,
   "metadata": {},
   "outputs": [
    {
     "name": "stdout",
     "output_type": "stream",
     "text": [
      "m=4/3 test, m= 1.3333333333333333  x= 50\n",
      "a_1= (0.5311058892948326+0.4990314856310949j)\n",
      "a_1= (0.531105889295-0.499031485631j)  #test\n",
      "b_1= (0.7919244759351928+0.4059311522289994j)\n",
      "b_1= (0.791924475935-0.405931152229j)  #test\n",
      "\n",
      "upward recurrence test, m= (1.5-1j)  x= 2\n",
      "a_1= (0.5465202033970914+0.1523738572575972j)\n",
      "a_1= (0.546520203397-0.152373857258j)  #test\n",
      "b_1= (0.3897147278879423-0.22789607525649083j)\n",
      "b_1= (0.389714727888+0.227896075256j)  #test\n",
      "\n",
      "downward recurrence test, m= (1.1-25j)  x= 2\n",
      "a_1= (0.322406907480758+0.46506354297157615j)\n",
      "a_1= (0.322406907480-0.465063542971j)  #test\n",
      "b_1= (0.5751672790921923-0.4929124952616479j)\n",
      "b_1= (0.575167279092+0.492912495262j)  #test\n"
     ]
    }
   ],
   "source": [
    "m = 4 / 3\n",
    "x = 50\n",
    "print(\"m=4/3 test, m=\", m, \" x=\", x)\n",
    "a, b = miepython._mie_An_Bn(m, x, 0)\n",
    "print(\"a_1=\", a[0])\n",
    "print(\"a_1= (0.531105889295-0.499031485631j)  #test\")\n",
    "print(\"b_1=\", b[0])\n",
    "print(\"b_1= (0.791924475935-0.405931152229j)  #test\")\n",
    "print()\n",
    "\n",
    "m = 3 / 2 - 1j\n",
    "x = 2\n",
    "print(\"upward recurrence test, m=\", m, \" x=\", x)\n",
    "a, b = miepython._mie_An_Bn(m, x, 0)\n",
    "\n",
    "print(\"a_1=\", a[0])\n",
    "print(\"a_1= (0.546520203397-0.152373857258j)  #test\")\n",
    "print(\"b_1=\", b[0])\n",
    "print(\"b_1= (0.389714727888+0.227896075256j)  #test\")\n",
    "print()\n",
    "\n",
    "m = 11 / 10 - 25j\n",
    "x = 2\n",
    "print(\"downward recurrence test, m=\", m, \" x=\", x)\n",
    "a, b = miepython._mie_An_Bn(m, x, 0)\n",
    "\n",
    "print(\"a_1=\", a[0])\n",
    "print(\"a_1= (0.322406907480-0.465063542971j)  #test\")\n",
    "print(\"b_1=\", b[0])\n",
    "print(\"b_1= (0.575167279092+0.492912495262j)  #test\")"
   ]
  },
  {
   "cell_type": "markdown",
   "metadata": {},
   "source": [
    "## Small Spheres\n",
    "\n",
    "This calculates everything accurately for small spheres.  This approximation\n",
    "is necessary because in the small particle or Rayleigh limit $x\\rightarrow0$ the\n",
    "Mie formulas become ill-conditioned.  The method was taken from Wiscombe's paper\n",
    "and has been tested for several complex indices of refraction.       \n",
    "Wiscombe uses this when \n",
    "\n",
    "$$\n",
    "x\\vert m\\vert\\le0.1\n",
    "$$ \n",
    "\n",
    "and says this routine should be accurate to six places.  \n",
    "\n",
    "The formula for ${\\hat a}_1$ is\n",
    "\n",
    "$$\n",
    "{\\hat a}_1 = 2i\\frac{m^2-1}{3}\\frac{1-0.1x^2+\\frac{\\displaystyle4m^2+5}{\\displaystyle1400}x^4}{D}\n",
    "$$\n",
    "\n",
    "where\n",
    "\n",
    "$$\n",
    "D=m^2+2+(1-0.7m^2)x^2-\\frac{8m^4-385m^2+350}{1400}x^4+2i\\frac{m^2-1}{3}x^3(1-0.1x^2)\n",
    "$$\n",
    "\n",
    "Note that I have disabled the case when the sphere has no index of refraction.\n",
    "The perfectly conducting sphere equations are \n",
    "\n",
    "\n",
    "The formula for ${\\hat b}_1$ is\n",
    "\n",
    "$$\n",
    "{\\hat b}_1 = ix^2\\frac{m^2-1}{45}  \\frac{1+\\frac{\\displaystyle2m^2-5}{\\displaystyle70}x^2}{1-\\frac{\\displaystyle2m^2-5}{\\displaystyle30}x^2}\n",
    "$$\n",
    "\n",
    "\n",
    "The formula for ${\\hat a}_2$ is\n",
    "\n",
    "$$\n",
    "{\\hat a}_2 = ix^2 \\frac{m^2-1}{15} \\frac{1-\\frac{\\displaystyle1}{\\displaystyle14}x^2}{2m^2+3-\\frac{\\displaystyle2m^2-7}{\\displaystyle14}x^2}\n",
    "$$\n",
    "\n",
    "\n",
    "The scattering and extinction efficiencies are given by\n",
    "\n",
    "$$\n",
    "Q_\\mathrm{ext} = 6x \\cdot \\mathcal{Re}\\left[{\\hat a}_1+{\\hat b}_1+\\frac{5}{3}{\\hat a}_2\\right]\n",
    "$$\n",
    "\n",
    "and\n",
    "$$\n",
    "Q_\\mathrm{sca} = 6x^4 T \n",
    "$$\n",
    "\n",
    "with\n",
    "\n",
    "$$\n",
    "T         =\\vert{\\hat a}_1\\vert^2+\\vert{\\hat b}_1\\vert^2+\\frac{5}{3}\\vert{\\hat a}_2\\vert^2\n",
    "$$\n",
    "\n",
    "and the anisotropy (average cosine of the phase function) is\n",
    "\n",
    "$$\n",
    "g          =\\frac{1}{T}\\cdot {\\cal Re}\\left[{\\hat a}_1({\\hat a}_2+{\\hat b}_1)^*\\right] \n",
    "$$\n",
    "\n",
    "The backscattering efficiency $Q_\\mathrm{back}$ is \n",
    "\n",
    "$$\n",
    "Q_\\mathrm{back} = \\frac{\\vert S_1(-1)\\vert^2 }{ x^2}\n",
    "$$\n",
    "\n",
    "where $S_1(\\mu)$ is\n",
    "\n",
    "$$\n",
    "\\frac{S_1(-1)}{x}=\\frac{3}{2}x^2\\left[{\\hat a}_1-{\\hat b}_1-\\frac{5}{3}{\\hat a}_2\\right] \n",
    "$$\n"
   ]
  },
  {
   "cell_type": "code",
   "execution_count": 5,
   "metadata": {},
   "outputs": [
    {
     "name": "stdout",
     "output_type": "stream",
     "text": [
      "abs(m*x)= 0.09997142091617985\n",
      "Qext= 0.013287673090500258\n",
      "Qsca= 4.699313232220918e-06\n",
      "Qabs= 0.013282973777268036\n",
      "Qback= 7.034282738345809e-06\n",
      "g= 0.0008751930053081949\n",
      "\n",
      "The following should be nearly the same as those above:\n",
      "\n",
      "abs(m*x)= 0.1007230857350985\n",
      "Qext= 0.013388187040023184\n",
      "Qsca= 4.842269259059647e-06\n",
      "Qabs= 0.013383344770764125\n",
      "Qback= 7.24804468970277e-06\n",
      "g= 0.0008883995075494256\n"
     ]
    }
   ],
   "source": [
    "m = 1.5 - 0.1j\n",
    "x = 0.0665\n",
    "print(\"abs(m*x)=\", abs(m * x))\n",
    "qext, qsca, qback, g = miepython._small_mie(m, x)\n",
    "print(\"Qext=\", qext)\n",
    "print(\"Qsca=\", qsca)\n",
    "print(\"Qabs=\", qext - qsca)\n",
    "print(\"Qback=\", qback)\n",
    "print(\"g=\", g)\n",
    "\n",
    "print()\n",
    "print(\"The following should be nearly the same as those above:\")\n",
    "print()\n",
    "\n",
    "x = 0.067\n",
    "print(\"abs(m*x)=\", abs(m * x))\n",
    "qext, qsca, qback, g = miepython.mie(m, x)\n",
    "print(\"Qext=\", qext)\n",
    "print(\"Qsca=\", qsca)\n",
    "print(\"Qabs=\", qext - qsca)\n",
    "print(\"Qback=\", qback)\n",
    "print(\"g=\", g)"
   ]
  },
  {
   "cell_type": "markdown",
   "metadata": {},
   "source": [
    "## Small Perfectly Reflecting Spheres\n",
    "\n",
    "The above equations fail when `m.real=0` so use these approximations when the sphere is small and refective"
   ]
  },
  {
   "cell_type": "code",
   "execution_count": 6,
   "metadata": {},
   "outputs": [
    {
     "name": "stdout",
     "output_type": "stream",
     "text": [
      "Qext = 0.0003209674075568899\n",
      "Qsca = 0.0003209674075568899\n",
      "Qabs = 0.0\n",
      "Qback= 0.0008630007227881902\n",
      "g    = -0.3973569106511184\n",
      "\n",
      "The following should be nearly the same as those above:\n",
      "\n",
      "Qext = 0.000335472382749474\n",
      "Qsca = 0.000335472382749474\n",
      "Qabs = 0.0\n",
      "Qback= 0.000901932000092768\n",
      "g    = -0.39731049260470014\n"
     ]
    }
   ],
   "source": [
    "m = 0 - 0.01j\n",
    "x = 0.099\n",
    "qext, qsca, qback, g = miepython._small_conducting_mie(m, x)\n",
    "print(\"Qext =\", qext)\n",
    "print(\"Qsca =\", qsca)\n",
    "print(\"Qabs =\", qext - qsca)\n",
    "print(\"Qback=\", qback)\n",
    "print(\"g    =\", g)\n",
    "\n",
    "\n",
    "print()\n",
    "print(\"The following should be nearly the same as those above:\")\n",
    "print()\n",
    "\n",
    "m = 0 - 0.01j\n",
    "x = 0.1001\n",
    "qext, qsca, qback2, g = miepython.mie(m, x)\n",
    "print(\"Qext =\", qext)\n",
    "print(\"Qsca =\", qsca)\n",
    "print(\"Qabs =\", qext - qsca)\n",
    "print(\"Qback=\", qback2)\n",
    "print(\"g    =\", g)"
   ]
  },
  {
   "cell_type": "markdown",
   "metadata": {},
   "source": [
    "## Mie scattering calculations\n",
    "\n",
    "From page 120 of Bohren and Huffman the anisotropy is given by\n",
    "\n",
    "$$\n",
    "Q_{\\rm sca}\\langle \\cos\\theta\\rangle = \\frac{4}{x^2} \\left[\n",
    "\\sum_{n=1}^{\\infty} \\frac{n(n+2)}{n+1} \\mbox{Re}\\lbrace a_na_{n+1}^*+b_nb_{n+1}^*\\rbrace\n",
    "+ \\sum_{n=1}^{\\infty} \\frac{2n+1}{n(n+1)} \\mbox{Re}\\lbrace a_nb_n^*\\rbrace\\right]\n",
    "$$\n",
    "\n",
    "For computation purposes, this must be rewritten as\n",
    "\n",
    "$$\n",
    "Q_{\\rm sca}\\langle \\cos\\theta\\rangle = \\frac{4}{x^2} \\left[\n",
    "\\sum_{n=2}^{\\infty} \\frac{(n^2-1)}{n} \\mbox{Re}\\lbrace a_{n-1}a_n^*+b_{n-1}b_n^*\\rbrace\n",
    "+ \\sum_{n=1}^{\\infty} \\frac{2n+1}{n(n+1)} \\mbox{Re}\\lbrace a_nb_n^*\\rbrace\\right]\n",
    "$$\n",
    "\n",
    "From page 122 we find an expression for the backscattering efficiency\n",
    "\n",
    "$$\n",
    "Q_{\\rm back} = \\frac{\\sigma_b}{\\pi a^2} = \\frac{1}{x^2} \\left\\vert\n",
    "\\sum_{n=1}^{\\infty} (2n+1)(-1)^n(a_n-b_n)\\right\\vert^2\n",
    "$$\n",
    "\n",
    "From page 103 we find an expression for the scattering cross section\n",
    "\n",
    "$$\n",
    "Q_{\\rm sca} = \\frac{\\sigma_s}{\\pi a^2}\n",
    "= \\frac{2}{x^2}\\sum_{n=1}^{\\infty} (2n+1)(\\vert a_n\\vert^2+\\vert b_n\\vert^2)\n",
    "$$\n",
    "\n",
    "The total extinction efficiency is also found on page 103\n",
    "$$\n",
    "Q_{\\rm ext}= \\frac{\\sigma_t}{\\pi a^2}\n",
    "= \\frac{2}{x^2}\\sum_{n=1}^{\\infty} (2n+1)\\cdot\\mbox{Re}\\{a_n+b_n\\}\n",
    "$$"
   ]
  },
  {
   "cell_type": "code",
   "execution_count": 7,
   "metadata": {
    "scrolled": true
   },
   "outputs": [
    {
     "name": "stdout",
     "output_type": "stream",
     "text": [
      "Qext= 3.1054255314658765\n",
      "Qsca= 3.1054255314658765\n",
      "Qabs= 0.0\n",
      "Qback= 2.925340649659009\n",
      "g= 0.6331367580408946\n"
     ]
    }
   ],
   "source": [
    "qext, qsca, qback, g = miepython.mie(1.55 - 0.0j, 2 * np.pi / 0.6328 * 0.525)\n",
    "print(\"Qext=\", qext)\n",
    "print(\"Qsca=\", qsca)\n",
    "print(\"Qabs=\", qext - qsca)\n",
    "print(\"Qback=\", qback)\n",
    "print(\"g=\", g)"
   ]
  },
  {
   "cell_type": "code",
   "execution_count": 8,
   "metadata": {
    "scrolled": true
   },
   "outputs": [
    {
     "name": "stdout",
     "output_type": "stream",
     "text": [
      "Qext= 2.019702520822551\n",
      "Qsca= 1.1069323889254015\n",
      "Qabs= 0.9127701318971495\n",
      "Qback= 0.04153355464458809\n",
      "g= 0.9508799127402473\n"
     ]
    }
   ],
   "source": [
    "x = 1000.0\n",
    "m = 1.5 - 0.1j\n",
    "qext, qsca, qback, g = miepython.mie(m, x)\n",
    "print(\"Qext=\", qext)\n",
    "print(\"Qsca=\", qsca)\n",
    "print(\"Qabs=\", qext - qsca)\n",
    "print(\"Qback=\", qback)\n",
    "print(\"g=\", g)"
   ]
  },
  {
   "cell_type": "code",
   "execution_count": 9,
   "metadata": {},
   "outputs": [
    {
     "name": "stdout",
     "output_type": "stream",
     "text": [
      "Qext= 2.004367709696921\n",
      "Qsca= 1.2365743120721584\n",
      "Qabs= 0.7677933976247626\n",
      "Qback= 0.172413800511328\n",
      "g= 0.84630995810947\n"
     ]
    }
   ],
   "source": [
    "x = 10000.0\n",
    "m = 1.5 - 1j\n",
    "qext, qsca, qback, g = miepython.mie(m, x)\n",
    "print(\"Qext=\", qext)\n",
    "print(\"Qsca=\", qsca)\n",
    "print(\"Qabs=\", qext - qsca)\n",
    "print(\"Qback=\", qback)\n",
    "print(\"g=\", g)"
   ]
  },
  {
   "cell_type": "markdown",
   "metadata": {},
   "source": [
    "## Scattering Matrix\n",
    "\n",
    "The scattering matrix is given by Equation 4.74 in Bohren and Huffman.\n",
    "Namely,\n",
    "\n",
    "$$\n",
    "S_1(\\cos\\theta) = \\sum_{n=1}^\\infty \\frac{2n+1}{n(n+1)} \\left[ a_n \\pi_n(\\cos\\theta)+b_n\\tau_n(\\cos\\theta)\\right]\n",
    "$$\n",
    "\n",
    "and\n",
    "\n",
    "$$\n",
    "S_2(\\cos\\theta) = \\sum_{n=1}^\\infty  \\frac{2n+1}{n(n+1)} \\left[a_n \\tau_n(\\cos\\theta)+b_n\\pi_n(\\cos\\theta) \\right]\n",
    "$$\n",
    "\n",
    "If $\\mu=\\cos\\theta$ then\n",
    "\n",
    "$$\n",
    "S_1(\\mu) = \\sum_{n=1}^\\infty  \\frac{2n+1}{n(n+1)} \\left[ a_n \\pi_n(\\mu)+b_n\\tau_n(\\mu)\\right]\n",
    "$$\n",
    "\n",
    "and\n",
    "\n",
    "$$\n",
    "S_2(\\mu) = \\sum_{n=1}^\\infty  \\frac{2n+1}{n(n+1)} \\left[a_n \\tau_n(\\mu)+b_n\\pi_n(\\mu) \\right]\n",
    "$$\n",
    "\n",
    "This means that for each angle $\\mu$ we need to know $\\tau_n(\\mu)$ and $\\pi_n(\\mu)$ for every $a_n$ and $b_n$.\n",
    "Equation 4.47 in Bohren and Huffman states\n",
    "\n",
    "$$\n",
    "\\pi_n(\\mu) = \\frac{2n-1}{ n-1}\\mu \\pi_{n-1}(\\mu) - \\frac{n}{ n-1} \\pi_{n-2}(\\mu)\n",
    "$$\n",
    "\n",
    "and knowning that $\\pi_0(\\mu)=0$ and $\\pi_1(\\mu)=1$, all the rest can be found.  Similarly\n",
    "\n",
    "$$\n",
    "\\tau_n(\\mu) = n\\mu\\pi_n(\\mu)-(n+1)\\pi_{n-1}(\\mu)\n",
    "$$\n",
    "\n",
    "so the plan is to use these recurrence relations to find $\\pi_n(\\mu)$ and $\\tau_n(\\mu)$ during the summation process.\n",
    "\n",
    "The only real trick is to account for 0-based arrays when the sums above are 1-based."
   ]
  },
  {
   "cell_type": "code",
   "execution_count": 10,
   "metadata": {},
   "outputs": [
    {
     "name": "stdout",
     "output_type": "stream",
     "text": [
      "0.0 0.043082703776200375 -0.059824170231883\n",
      "0.5 -0.08406917971799534 0.13895030591423976\n",
      "1.0 1.243802470172421 -0.19843241112738894\n"
     ]
    }
   ],
   "source": [
    "m = 1.55 - 0.1j\n",
    "x = 5.213\n",
    "mu = np.array([0.0, 0.5, 1.0])\n",
    "\n",
    "S1, S2 = miepython.mie_S1_S2(m, x, mu)\n",
    "for i in range(len(mu)):\n",
    "    print(mu[i], S2[i].real, S2[i].imag)"
   ]
  },
  {
   "cell_type": "markdown",
   "metadata": {},
   "source": [
    "### Test to match Bohren's Sample Calculation"
   ]
  },
  {
   "cell_type": "code",
   "execution_count": 11,
   "metadata": {},
   "outputs": [
    {
     "name": "stdout",
     "output_type": "stream",
     "text": [
      "ANGLE     S11         POL         S33         S34\n",
      "    0 1.00000000 -0.00000000  1.00000000 -0.00000000\n",
      "    9 0.78538504 -0.00458392  0.99940039  0.03431985\n",
      "   18 0.35688492 -0.04578478  0.98602789  0.16016480\n",
      "   27 0.07660207 -0.36455096  0.84366465  0.39412251\n",
      "   36 0.03553383 -0.53498510  0.68714053 -0.49155756\n",
      "   45 0.07019023  0.00954907  0.95986338 -0.28030538\n",
      "   54 0.05743887  0.04782061  0.98536582  0.16360740\n",
      "   63 0.02196833 -0.44040631  0.64814202  0.62125213\n",
      "   72 0.01259465 -0.83204714  0.20344385 -0.51605054\n",
      "   81 0.01737702  0.03419635  0.79548556 -0.60500689\n",
      "   90 0.01246407  0.23055333  0.93743853  0.26087192\n",
      "   99 0.00679199 -0.71323431 -0.00732217  0.70088744\n",
      "  108 0.00954281 -0.75617653 -0.03954742 -0.65317154\n",
      "  117 0.00863640 -0.28085850  0.53642012 -0.79584669\n",
      "  126 0.00227521 -0.23864148  0.96777914  0.08033545\n",
      "  135 0.00544047 -0.85116040  0.18710096 -0.49042758\n",
      "  144 0.01602875 -0.70649116  0.49501921 -0.50579267\n",
      "  153 0.01889077 -0.89109951  0.45322894 -0.02291691\n",
      "  162 0.01952522 -0.78348591 -0.39140822  0.48264836\n",
      "  171 0.03016127 -0.19626673 -0.96204724  0.18959028\n",
      "  180 0.03831054 -0.00000000 -1.00000000 -0.00000000\n"
     ]
    }
   ],
   "source": [
    "# Test to match Bohren's Sample Calculation\n",
    "theta = np.arange(0, 181, 9)\n",
    "mu = np.cos(theta * np.pi / 180)\n",
    "S1, S2 = miepython.mie_S1_S2(1.55, 5.213, mu)\n",
    "qext, qsca, qback, g = miepython.mie(m, x)\n",
    "norm = np.sqrt(qext * x**2 * np.pi)\n",
    "S1 /= norm\n",
    "S2 /= norm\n",
    "\n",
    "S11 = (abs(S2) ** 2 + abs(S1) ** 2) / 2\n",
    "S12 = (abs(S2) ** 2 - abs(S1) ** 2) / 2\n",
    "S33 = (S2 * S1.conjugate()).real\n",
    "S34 = (S2 * S1.conjugate()).imag\n",
    "\n",
    "# the minus in POL=-S12/S11 matches that Bohren\n",
    "# the minus in front of -S34/S11 does not match Bohren's code!\n",
    "\n",
    "print(\"ANGLE     S11         POL         S33         S34\")\n",
    "for i in range(len(mu)):\n",
    "    print(\n",
    "        \"%5d %10.8f % 10.8f % 10.8f % 10.8f\"\n",
    "        % (\n",
    "            theta[i],\n",
    "            S11[i] / S11[0],\n",
    "            -S12[i] / S11[i],\n",
    "            S33[i] / S11[i],\n",
    "            -S34[i] / S11[i],\n",
    "        )\n",
    "    )"
   ]
  },
  {
   "cell_type": "code",
   "execution_count": 12,
   "metadata": {},
   "outputs": [
    {
     "data": {
      "image/png": "[encoded data removed]",
      "text/plain": [
       "<Figure size 800x450 with 1 Axes>"
      ]
     },
     "metadata": {},
     "output_type": "display_data"
    }
   ],
   "source": [
    "num = 100\n",
    "m = 1.1\n",
    "x = np.linspace(0.01, 0.21, num)\n",
    "qext, qsca, qback, g = miepython.mie(m, x)\n",
    "\n",
    "plt.plot(x, qback)\n",
    "plt.plot((abs(0.1 / m), abs(0.1 / m)), (0, qback[num - 1]))\n",
    "plt.xlabel(\"Size Parameter (-)\")\n",
    "plt.ylabel(\"Backscattering Efficiency\")\n",
    "plt.show()"
   ]
  },
  {
   "cell_type": "code",
   "execution_count": null,
   "metadata": {},
   "outputs": [],
   "source": []
  }
 ],
 "metadata": {
  "kernelspec": {
   "display_name": "Python 3 (ipykernel)",
   "language": "python",
   "name": "python3"
  },
  "language_info": {
   "codemirror_mode": {
    "name": "ipython",
    "version": 3
   },
   "file_extension": ".py",
   "mimetype": "text/x-python",
   "name": "python",
   "nbconvert_exporter": "python",
   "pygments_lexer": "ipython3",
   "version": "3.12.6"
  }
 },
 "nbformat": 4,
 "nbformat_minor": 4
}
