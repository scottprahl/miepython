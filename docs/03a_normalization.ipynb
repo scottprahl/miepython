{
 "cells": [
  {
   "cell_type": "markdown",
   "metadata": {},
   "source": [
    "# Scattering Function Normalization\n",
    "\n",
    "**Scott Prahl**\n",
    "\n",
    "**July 2022**"
   ]
  },
  {
   "cell_type": "code",
   "execution_count": 1,
   "metadata": {},
   "outputs": [],
   "source": [
    "#!pip install --user miepython"
   ]
  },
  {
   "cell_type": "code",
   "execution_count": 2,
   "metadata": {},
   "outputs": [],
   "source": [
    "import numpy as np\n",
    "import matplotlib.pyplot as plt\n",
    "\n",
    "try:\n",
    "    import miepython\n",
    "\n",
    "except ModuleNotFoundError:\n",
    "    print(\"miepython not installed. To install, uncomment and run the cell above.\")\n",
    "    print(\"Once installation is successful, rerun this cell again.\")"
   ]
  },
  {
   "cell_type": "markdown",
   "metadata": {},
   "source": [
    "## Solid Angles\n",
    "\n",
    "Solid angles are the 3D analog of 2D angles.  A radian $\\theta$ is defined as the angle represented by an arc length on circle divided by the radius $R$ of the circle\n",
    "\n",
    "$$\n",
    "\\theta = \\frac{\\mbox{arc length}}{R}\n",
    "$$\n",
    "\n",
    "A steradian $\\Omega$ is defined as the area on a surface of a sphere divided by the square of its radius $R$.  \n",
    "\n",
    "$$\n",
    "\\Omega = \\frac{\\mbox{surface area}}{R^2}\n",
    "$$\n",
    "\n",
    "Thus the total number of steradians in a sphere is $4\\pi R^2/R^2=4\\pi$\n",
    "\n",
    "For example usage, a circular detector (pointed at the center) with radius $r_d$ at a distance $R$  from the center will subtend an approximate angle (the detector is flat and does not curve with the sphere surface)\n",
    "\n",
    "$$\n",
    "\\Omega \\approx \\frac{\\pi r_d^2}{R^2}\n",
    "$$\n",
    "\n",
    "(assuming $r_d\\ll R$). Now if $P_0$ of light is scattered by a sphere located at the center then the scattered power on the detector will be\n",
    "\n",
    "$$\n",
    "P_d = P_0 \\cdot \\Omega \\cdot p(\\mu)\n",
    "$$\n",
    "\n",
    "where $\\mu$ is the cosine of the angle between the incoming light and a ray to the center of the detector."
   ]
  },
  {
   "cell_type": "markdown",
   "metadata": {},
   "source": [
    "## Normalization of the scattered light\n",
    "\n",
    "Mie scattering is used in a wide variety of disciplines to describe the scattering pattern from spheres.  Not surprisingly a bunch of different normalizations have arisen that can be described based on the integrating the scattering function over all directions ($4\\pi$ steradians).\n",
    "\n",
    "Integrating the scattering phase function all solid angles suggests the following dimensionless possibilities which have been chosen by one or more authors for their convenience.  `miepython` now supports all of these.\n",
    "\n",
    "$$\n",
    "\\begin{align}\n",
    "\\int_{4\\pi} p(\\theta,\\phi) \\,d\\Omega = a       \\qquad&\\qquad \\mbox{albedo (default)}\\\\[2mm]\n",
    "\\int_{4\\pi} p(\\theta,\\phi) \\,d\\Omega = 1       \\qquad&\\qquad \\mbox{one}\\\\[2mm]\n",
    "\\int_{4\\pi} p(\\theta,\\phi) \\,d\\Omega = 4\\pi    \\qquad&\\qquad \\mbox{4pi}\\\\[2mm]\n",
    "\\int_{4\\pi} p(\\theta,\\phi) \\,d\\Omega = Q_{sca} \\qquad&\\qquad \\mbox{qsca}\\\\[2mm]\n",
    "\\int_{4\\pi} p(\\theta,\\phi) \\,d\\Omega = Q_{ext} \\qquad&\\qquad \\mbox{qext}\\\\[2mm]\n",
    "\\int_{4\\pi} p(\\theta,\\phi) \\,d\\Omega = 4\\pi x^2 Q_{sca}\\qquad&\\qquad \\mbox{Bohren}\\\\[2mm]\n",
    "\\int_{4\\pi} p(\\theta,\\phi) \\,d\\Omega =\\pi x^2 Q_{sca}\\qquad&\\qquad \\mbox{Wiscombe}\\\\[2mm]\n",
    "\\end{align}\n",
    "$$\n",
    "\n",
    "where $x=2\\pi a/\\lambda$ is the size parameter of a sphere with radius $a$ at wavelength $\\lambda$.\n",
    "\n",
    "The single scattering albedo is $a$, defined as\n",
    "\n",
    "$$\n",
    "a = \\frac{Q_\\mathrm{sca}}{Q_\\mathrm{ext}} = \\frac{Q_\\mathrm{sca}}{Q_\\mathrm{sca}+Q_\\mathrm{abs}}\n",
    "$$\n",
    "\n",
    "and $Q_\\mathrm{sca}$, $Q_\\mathrm{ext}$, and $Q_\\mathrm{abs}$ are the scattering, extinction, and absorption efficiencies."
   ]
  },
  {
   "cell_type": "markdown",
   "metadata": {
    "heading_collapsed": true
   },
   "source": [
    "## Verifying normalization\n",
    "\n",
    "Since  $d\\Omega=\\sin\\theta d\\theta\\,d\\phi$ is a differential solid angle, the integral of the scattering phase function over all solid angles is\n",
    "\n",
    "$$\n",
    "\\mbox{total} = \\int_{4\\pi} \\, p(\\Omega)\\,d\\Omega \\equiv \\int_0^{2\\pi}\\int_0^\\pi \\, p(\\theta,\\phi)\\,\\sin\\theta\\,d\\theta\\,d\\phi\n",
    "$$\n",
    "\n",
    "or with a change of variables $\\mu=\\cos\\theta$ and using symmetry (the phase function is independent of $\\phi$), the integral simplifies to\n",
    "\n",
    "$$\n",
    "\\mbox{total} = 2\\pi \\int_{-1}^1 \\, p(\\mu)\\,d\\mu\n",
    "$$\n",
    "\n",
    "This integral can be done numerically by simply summing all the rectangles\n",
    "\n",
    "$$\n",
    "\\mbox{total} = 2\\pi \\sum_{i=0}^N p(\\mu_i)\\,\\Delta\\mu_i\n",
    "$$\n",
    "\n",
    "which can be found using `np.trapz()`"
   ]
  },
  {
   "cell_type": "code",
   "execution_count": 3,
   "metadata": {},
   "outputs": [],
   "source": [
    "## Phase Functions"
   ]
  },
  {
   "cell_type": "markdown",
   "metadata": {
    "hidden": true
   },
   "source": [
    "### Case 1. n=1.5, x=1\n",
    "\n",
    "For this non-strongly peaked scattering function, the simple integration remains close to the expected value."
   ]
  },
  {
   "cell_type": "code",
   "execution_count": 4,
   "metadata": {
    "hidden": true
   },
   "outputs": [
    {
     "data": {
      "image/png": "[encoded data removed]",
      "text/plain": [
       "<Figure size 432x288 with 1 Axes>"
      ]
     },
     "metadata": {
      "needs_background": "light"
     },
     "output_type": "display_data"
    },
    {
     "name": "stdout",
     "output_type": "stream",
     "text": [
      " Normalization    Total  Expected\n",
      "        albedo    1.000     1.000\n",
      "           one    1.000     1.000\n",
      "           4pi   12.566    12.566\n",
      "          qsca    0.215     0.215\n",
      "          qext    0.215     0.215\n",
      "        bohren    2.703     2.703\n",
      "      wiscombe    0.676     0.676\n"
     ]
    }
   ],
   "source": [
    "m = 1.5\n",
    "x = 1\n",
    "mu = np.linspace(-1, 1, 501)\n",
    "intensity = miepython.i_unpolarized(m, x, mu)\n",
    "qext, qsca, qback, g = miepython.mie(m, x)\n",
    "\n",
    "norms = [\"albedo\", \"one\", \"4pi\", \"qsca\", \"qext\", \"bohren\", \"wiscombe\"]\n",
    "expected = [\n",
    "    qsca / qext,\n",
    "    1.0,\n",
    "    4 * np.pi,\n",
    "    qsca,\n",
    "    qext,\n",
    "    4 * np.pi * x**2 * qsca,\n",
    "    np.pi * x**2 * qsca,\n",
    "]\n",
    "\n",
    "plt.plot(mu, intensity)\n",
    "plt.xlabel(r\"$\\cos(\\theta)$\")\n",
    "plt.ylabel(\"Unpolarized Scattering Intensity [1/sr]\")\n",
    "plt.title(\"m=%.3f%+.3fj, x=%.2f, default normalization\" % (m.real, m.imag, x))\n",
    "plt.show()\n",
    "\n",
    "\n",
    "print(\" Normalization    Total  Expected\")\n",
    "\n",
    "for i, norm in enumerate(norms):\n",
    "\n",
    "    intensity = miepython.i_unpolarized(m, x, mu, norm)\n",
    "    total = 2 * np.pi * np.trapz(intensity, mu)\n",
    "    print(\"%14s %8.3f  %8.3f\" % (norm, total, expected[i]))"
   ]
  },
  {
   "cell_type": "markdown",
   "metadata": {
    "hidden": true
   },
   "source": [
    "### Case 2: m=1.5-1.5j, x=1\n",
    "\n",
    "For this non-strongly peaked scattering function, the simple integration remains close to the expected value."
   ]
  },
  {
   "cell_type": "code",
   "execution_count": 5,
   "metadata": {
    "hidden": true
   },
   "outputs": [
    {
     "data": {
      "image/png": "[encoded data removed]",
      "text/plain": [
       "<Figure size 432x288 with 1 Axes>"
      ]
     },
     "metadata": {
      "needs_background": "light"
     },
     "output_type": "display_data"
    },
    {
     "name": "stdout",
     "output_type": "stream",
     "text": [
      " Normalization    Total  Expected\n",
      "        albedo    0.377     0.377\n",
      "           one    1.000     1.000\n",
      "           4pi   12.566    12.566\n",
      "          qsca    1.139     1.139\n",
      "          qext    3.023     3.023\n",
      "        bohren   14.308    14.308\n",
      "      wiscombe    3.577     3.577\n"
     ]
    }
   ],
   "source": [
    "m = 1.5 - 1.5j\n",
    "x = 1\n",
    "mu = np.linspace(-1, 1, 501)\n",
    "intensity = miepython.i_unpolarized(m, x, mu)\n",
    "qext, qsca, qback, g = miepython.mie(m, x)\n",
    "\n",
    "norms = [\"albedo\", \"one\", \"4pi\", \"qsca\", \"qext\", \"bohren\", \"wiscombe\"]\n",
    "expected = [\n",
    "    qsca / qext,\n",
    "    1.0,\n",
    "    4 * np.pi,\n",
    "    qsca,\n",
    "    qext,\n",
    "    4 * np.pi * x**2 * qsca,\n",
    "    np.pi * x**2 * qsca,\n",
    "]\n",
    "\n",
    "plt.plot(mu, intensity)\n",
    "plt.xlabel(r\"$\\cos(\\theta)$\")\n",
    "plt.ylabel(\"Unpolarized Scattering Intensity [1/sr]\")\n",
    "plt.title(\"m=%.3f%+.3fj, x=%.2f, default normalization\" % (m.real, m.imag, x))\n",
    "plt.show()\n",
    "\n",
    "print(\" Normalization    Total  Expected\")\n",
    "\n",
    "for i, norm in enumerate(norms):\n",
    "\n",
    "    intensity = miepython.i_unpolarized(m, x, mu, norm)\n",
    "    total = 2 * np.pi * np.trapz(intensity, mu)\n",
    "    print(\"%14s %8.3f  %8.3f\" % (norm, total, expected[i]))"
   ]
  },
  {
   "cell_type": "markdown",
   "metadata": {
    "heading_collapsed": true,
    "hidden": true
   },
   "source": [
    "## Case III, evenly spaced $\\theta$\n",
    "\n",
    "For this non-strongly peaked scattering function, even spacing in $\\theta$ improves the accuracy of the integration."
   ]
  },
  {
   "cell_type": "code",
   "execution_count": 6,
   "metadata": {
    "hidden": true
   },
   "outputs": [
    {
     "data": {
      "image/png": "[encoded data removed]",
      "text/plain": [
       "<Figure size 432x288 with 1 Axes>"
      ]
     },
     "metadata": {
      "needs_background": "light"
     },
     "output_type": "display_data"
    },
    {
     "name": "stdout",
     "output_type": "stream",
     "text": [
      " Normalization    Total  Expected\n",
      "        albedo    0.496     0.496\n",
      "           one    1.000     1.000\n",
      "           4pi   12.567    12.566\n",
      "          qsca    1.523     1.523\n",
      "          qext    3.069     3.068\n",
      "        bohren   76.579    76.576\n",
      "      wiscombe   19.145    19.144\n"
     ]
    }
   ],
   "source": [
    "m = 1.5 - 1.5j\n",
    "x = 2\n",
    "theta = np.linspace(np.pi, 0, 361)\n",
    "mu = np.cos(theta)\n",
    "\n",
    "intensity = miepython.i_unpolarized(m, x, mu)\n",
    "qext, qsca, qback, g = miepython.mie(m, x)\n",
    "\n",
    "norms = [\"albedo\", \"one\", \"4pi\", \"qsca\", \"qext\", \"bohren\", \"wiscombe\"]\n",
    "expected = [\n",
    "    qsca / qext,\n",
    "    1.0,\n",
    "    4 * np.pi,\n",
    "    qsca,\n",
    "    qext,\n",
    "    4 * np.pi * x**2 * qsca,\n",
    "    np.pi * x**2 * qsca,\n",
    "]\n",
    "\n",
    "plt.plot(mu, intensity)\n",
    "plt.xlabel(r\"$\\cos(\\theta)$\")\n",
    "plt.ylabel(\"Unpolarized Scattering Intensity [1/sr]\")\n",
    "plt.title(\"m=%.3f%+.3fj, x=%.2f, default normalization\" % (m.real, m.imag, x))\n",
    "plt.show()\n",
    "\n",
    "print(\" Normalization    Total  Expected\")\n",
    "\n",
    "for i, norm in enumerate(norms):\n",
    "\n",
    "    intensity = miepython.i_unpolarized(m, x, mu, norm)\n",
    "    total = 2 * np.pi * np.trapz(intensity, mu)\n",
    "    print(\"%14s %8.3f  %8.3f\" % (norm, total, expected[i]))"
   ]
  },
  {
   "cell_type": "markdown",
   "metadata": {
    "tags": []
   },
   "source": [
    "## Differential Scattering Cross Section\n",
    "\n",
    "The *differential scattering cross section* $\\frac{d\\sigma_{sca}}{d\\Omega}$ is defined in terms of the total scattering cross section\n",
    "\n",
    "$$\n",
    "\\sigma_\\mathrm{sca} = \\pi r^2 Q_\\mathrm{sca} = \\int_{4\\pi} \\frac{d\\sigma_{sca}}{d\\Omega}\\,d\\Omega\n",
    "$$\n",
    "\n",
    "Thus if the unpolarized scattering is normalized so its integral is the scattering efficiency\n",
    "\n",
    "$$\n",
    "Q_\\mathrm{sca} = \\int_{4\\pi} p(\\mu) \\,d\\Omega\n",
    "$$\n",
    "\n",
    "then\n",
    "\n",
    "$$\n",
    "\\frac{d\\sigma_{sca}}{d\\Omega} = \\pi r^2 p(\\theta,\\phi)\n",
    "$$ \n",
    "\n",
    "The differential scattering cross section can be obtained `miepython` by normalizing to `qsca` and multiplying the result by the geometric cross section \n",
    "\n",
    "    diff_sca = np.pi * r**2 * miepython.i_unpolarized(m,x,mu,norm='qsca')\n",
    "\n",
    "For example, here is a replica of [figure 4](http://plaza.ufl.edu/dwhahn/Rayleigh%20and%20Mie%20Light%20Scattering.pdf)"
   ]
  },
  {
   "cell_type": "code",
   "execution_count": 7,
   "metadata": {},
   "outputs": [
    {
     "data": {
      "image/png": "[encoded data removed]",
      "text/plain": [
       "<Figure size 432x288 with 1 Axes>"
      ]
     },
     "metadata": {
      "needs_background": "light"
     },
     "output_type": "display_data"
    }
   ],
   "source": [
    "m = 1.4 - 0j\n",
    "lambda0 = 532e-9  # m\n",
    "theta = np.linspace(0, 180, 1000)\n",
    "mu = np.cos(theta * np.pi / 180)\n",
    "\n",
    "d = 1700e-9  # m\n",
    "x = 2 * np.pi / lambda0 * d / 2\n",
    "geometric_cross_section = np.pi * d**2 / 4 * 1e4  # cm**2\n",
    "qext, qsca, qback, g = miepython.mie(m, x)\n",
    "sigma_sca = geometric_cross_section * miepython.i_unpolarized(m, x, mu, \"qsca\")\n",
    "plt.semilogy(theta, sigma_sca * 1e-3, color=\"blue\")\n",
    "plt.text(15, sigma_sca[0] * 3e-4, \"%.0fnm\\n(x10$^{-3}$)\" % (d * 1e9), color=\"blue\")\n",
    "\n",
    "d = 170e-9  # m\n",
    "x = 2 * np.pi / lambda0 * d / 2\n",
    "geometric_cross_section = np.pi * d**2 / 4 * 1e4  # cm**2\n",
    "qext, qsca, qback, g = miepython.mie(m, x)\n",
    "sigma_sca = geometric_cross_section * miepython.i_unpolarized(m, x, mu, \"qsca\")\n",
    "plt.semilogy(theta, sigma_sca, color=\"red\")\n",
    "plt.text(110, sigma_sca[-1] / 2, \"%.0fnm\" % (d * 1e9), color=\"red\")\n",
    "\n",
    "d = 17e-9  # m\n",
    "x = 2 * np.pi / lambda0 * d / 2\n",
    "geometric_cross_section = np.pi * d**2 / 4 * 1e4  # cm**2\n",
    "qext, qsca, qback, g = miepython.mie(m, x)\n",
    "sigma_sca = geometric_cross_section * miepython.i_unpolarized(m, x, mu, \"qsca\")\n",
    "plt.semilogy(theta, sigma_sca * 1e6, color=\"green\")\n",
    "plt.text(130, sigma_sca[-1] * 1e6, \"(x10$^6$)\\n%.0fnm\" % (d * 1e9), color=\"green\")\n",
    "\n",
    "plt.title(\"Refractive index m=1.4, $\\lambda$=532nm\")\n",
    "plt.xlabel(\"Scattering Angle (degrees)\")\n",
    "plt.ylabel(\"Diff. Scattering Cross Section (cm$^2$/sr)\")\n",
    "plt.grid(True)\n",
    "plt.show()"
   ]
  },
  {
   "cell_type": "markdown",
   "metadata": {},
   "source": [
    "## Comparison to Wiscombe's Mie Program\n",
    "\n",
    "Wiscombe normalizes as\n",
    "\n",
    "$$\n",
    "\\int_{4\\pi} p(\\theta,\\phi) \\,d\\Omega = \\pi x^2  Q_{sca}\n",
    "$$\n",
    "\n",
    "where $p(\\theta)$ is the scattered light.\n",
    "\n",
    "Once corrected for differences in phase function normalization, Wiscombe's test cases match those from `miepython` exactly.\n",
    "\n",
    "### Wiscombe's Test Case 14"
   ]
  },
  {
   "cell_type": "code",
   "execution_count": 8,
   "metadata": {},
   "outputs": [
    {
     "name": "stdout",
     "output_type": "stream",
     "text": [
      "MIEV0 Test Case 14:  m=1.500-1.000j,  Mie size parameter =     1.000\n",
      "\n",
      "                   0.0°     30.0°     60.0°     90.0°\n",
      "MIEV0          0.37745   0.31321   0.19214   0.12066\n",
      "miepython      0.37745   0.31321   0.19214   0.12066\n",
      "ratio          1.00000   1.00000   1.00000   1.00000\n"
     ]
    }
   ],
   "source": [
    "\"\"\"\n",
    "MIEV0 Test Case 14:  Refractive index:  real    1.500  imag  -1.000E+00,  Mie size parameter =     1.000\n",
    "  Angle    Cosine           S-sub-1                     S-sub-2               Intensity  Deg of Polzn\n",
    "   0.00  1.000000   5.84080E-01   1.90515E-01   5.84080E-01   1.90515E-01   3.77446E-01        0.0000\n",
    "  30.00  0.866025   5.65702E-01   1.87200E-01   5.00161E-01   1.45611E-01   3.13213E-01       -0.1336\n",
    "  60.00  0.500000   5.17525E-01   1.78443E-01   2.87964E-01   4.10540E-02   1.92141E-01       -0.5597\n",
    "  90.00  0.000000   4.56340E-01   1.67167E-01   3.62285E-02  -6.18265E-02   1.20663E-01       -0.9574\n",
    "\"\"\"\n",
    "\n",
    "x = 1.0\n",
    "m = 1.5 - 1.0j\n",
    "mu = np.cos(np.linspace(0, 90, 4) * np.pi / 180)\n",
    "\n",
    "qext, qsca, qback, g = miepython.mie(m, x)\n",
    "albedo = qsca / qext\n",
    "unpolar = miepython.i_unpolarized(m, x, mu, \"wiscombe\")\n",
    "\n",
    "unpolar_miev = np.array([3.77446e-01, 3.13213e-01, 1.92141e-01, 1.20663e-01])\n",
    "ratio = unpolar_miev / unpolar\n",
    "\n",
    "print(\"MIEV0 Test Case 14:  m=1.500-1.000j,  Mie size parameter =     1.000\")\n",
    "print()\n",
    "print(\"             %9.1f°%9.1f°%9.1f°%9.1f°\" % (0, 30, 60, 90))\n",
    "print(\n",
    "    \"MIEV0        %9.5f %9.5f %9.5f %9.5f\"\n",
    "    % (unpolar_miev[0], unpolar_miev[1], unpolar_miev[2], unpolar_miev[3])\n",
    ")\n",
    "print(\n",
    "    \"miepython    %9.5f %9.5f %9.5f %9.5f\"\n",
    "    % (unpolar[0], unpolar[1], unpolar[2], unpolar[3])\n",
    ")\n",
    "print(\"ratio        %9.5f %9.5f %9.5f %9.5f\" % (ratio[0], ratio[1], ratio[2], ratio[3]))"
   ]
  },
  {
   "cell_type": "markdown",
   "metadata": {},
   "source": [
    "### Wiscombe's Test Case 10"
   ]
  },
  {
   "cell_type": "code",
   "execution_count": 9,
   "metadata": {},
   "outputs": [
    {
     "name": "stdout",
     "output_type": "stream",
     "text": [
      "MIEV0 Test Case 10:  m=1.330-0.00001j,  Mie size parameter =     100.000\n",
      "\n",
      "                   0.0°     30.0°     60.0°     90.0°\n",
      "MIEV0         27612600      5758       814        78\n",
      "miepython     27612635      5758       814        78\n",
      "ratio          1.00000   1.00000   1.00000   1.00000\n"
     ]
    }
   ],
   "source": [
    "\"\"\"\n",
    "MIEV0 Test Case 10:  Refractive index:  real    1.330  imag  -1.000E-05,  Mie size parameter =   100.000\n",
    "  Angle    Cosine           S-sub-1                     S-sub-2               Intensity  Deg of Polzn\n",
    "   0.00  1.000000   5.25330E+03  -1.24319E+02   5.25330E+03  -1.24319E+02   2.76126E+07        0.0000\n",
    "  30.00  0.866025  -5.53457E+01  -2.97188E+01  -8.46720E+01  -1.99947E+01   5.75775E+03        0.3146\n",
    "  60.00  0.500000   1.71049E+01  -1.52010E+01   3.31076E+01  -2.70979E+00   8.13553E+02        0.3563\n",
    "  90.00  0.000000  -3.65576E+00   8.76986E+00  -6.55051E+00  -4.67537E+00   7.75217E+01       -0.1645\n",
    "\"\"\"\n",
    "\n",
    "x = 100.0\n",
    "m = 1.33 - 1e-5j\n",
    "mu = np.cos(np.linspace(0, 90, 4) * np.pi / 180)\n",
    "\n",
    "qext, qsca, qback, g = miepython.mie(m, x)\n",
    "albedo = qsca / qext\n",
    "unpolar = miepython.i_unpolarized(m, x, mu, \"wiscombe\")\n",
    "\n",
    "unpolar_miev = np.array([2.76126e07, 5.75775e03, 8.13553e02, 7.75217e01])\n",
    "ratio = unpolar_miev / unpolar\n",
    "\n",
    "print(\"MIEV0 Test Case 10:  m=1.330-0.00001j,  Mie size parameter =     100.000\")\n",
    "print()\n",
    "print(\"             %9.1f°%9.1f°%9.1f°%9.1f°\" % (0, 30, 60, 90))\n",
    "print(\n",
    "    \"MIEV0        %9.0f %9.0f %9.0f %9.0f\"\n",
    "    % (unpolar_miev[0], unpolar_miev[1], unpolar_miev[2], unpolar_miev[3])\n",
    ")\n",
    "print(\n",
    "    \"miepython    %9.0f %9.0f %9.0f %9.0f\"\n",
    "    % (unpolar[0], unpolar[1], unpolar[2], unpolar[3])\n",
    ")\n",
    "print(\"ratio        %9.5f %9.5f %9.5f %9.5f\" % (ratio[0], ratio[1], ratio[2], ratio[3]))"
   ]
  },
  {
   "cell_type": "markdown",
   "metadata": {},
   "source": [
    "### Wiscombe's Test Case 7"
   ]
  },
  {
   "cell_type": "code",
   "execution_count": 10,
   "metadata": {},
   "outputs": [
    {
     "name": "stdout",
     "output_type": "stream",
     "text": [
      "MIEV0 Test Case 7:  m=0.75,  Mie size parameter =     10.000\n",
      "\n",
      "                   0.0°     30.0°     60.0°     90.0°\n",
      "MIEV0          3209.60    194.64     13.86      1.98\n",
      "miepython      3209.60    194.64     13.86      1.98\n",
      "ratio          1.00000   1.00000   1.00000   1.00000\n"
     ]
    }
   ],
   "source": [
    "\"\"\"\n",
    "MIEV0 Test Case  7:  Refractive index:  real    0.750  imag   0.000E+00,  Mie size parameter =    10.000\n",
    "  Angle    Cosine           S-sub-1                     S-sub-2               Intensity  Deg of Polzn\n",
    "   0.00  1.000000   5.58066E+01  -9.75810E+00   5.58066E+01  -9.75810E+00   3.20960E+03        0.0000\n",
    "  30.00  0.866025  -7.67288E+00   1.08732E+01  -1.09292E+01   9.62967E+00   1.94639E+02        0.0901\n",
    "  60.00  0.500000   3.58789E+00  -1.75618E+00   3.42741E+00   8.08269E-02   1.38554E+01       -0.1517\n",
    "  90.00  0.000000  -1.78590E+00  -5.23283E-02  -5.14875E-01  -7.02729E-01   1.97556E+00       -0.6158\n",
    "\"\"\"\n",
    "\n",
    "x = 10.0\n",
    "m = 0.75\n",
    "mu = np.cos(np.linspace(0, 90, 4) * np.pi / 180)\n",
    "\n",
    "qext, qsca, qback, g = miepython.mie(m, x)\n",
    "albedo = qsca / qext\n",
    "unpolar = miepython.i_unpolarized(m, x, mu, \"wiscombe\")\n",
    "\n",
    "unpolar_miev = np.array([3.20960e03, 1.94639e02, 1.38554e01, 1.97556e00])\n",
    "ratio = unpolar_miev / unpolar\n",
    "\n",
    "print(\"MIEV0 Test Case 7:  m=0.75,  Mie size parameter =     10.000\")\n",
    "print()\n",
    "print(\"             %9.1f°%9.1f°%9.1f°%9.1f°\" % (0, 30, 60, 90))\n",
    "print(\n",
    "    \"MIEV0        %9.2f %9.2f %9.2f %9.2f\"\n",
    "    % (unpolar_miev[0], unpolar_miev[1], unpolar_miev[2], unpolar_miev[3])\n",
    ")\n",
    "print(\n",
    "    \"miepython    %9.2f %9.2f %9.2f %9.2f\"\n",
    "    % (unpolar[0], unpolar[1], unpolar[2], unpolar[3])\n",
    ")\n",
    "print(\"ratio        %9.5f %9.5f %9.5f %9.5f\" % (ratio[0], ratio[1], ratio[2], ratio[3]))"
   ]
  },
  {
   "cell_type": "markdown",
   "metadata": {},
   "source": [
    "## Comparison to Bohren & Huffmans's Mie Program\n",
    "\n",
    "Bohren & Huffman normalizes as\n",
    "\n",
    "$$\n",
    "\\int_{4\\pi} p(\\theta,\\phi) \\,d\\Omega = 4 \\pi x^2  Q_{sca}\n",
    "$$"
   ]
  },
  {
   "cell_type": "markdown",
   "metadata": {},
   "source": [
    "### Bohren & Huffmans's Test Case 14"
   ]
  },
  {
   "cell_type": "code",
   "execution_count": 11,
   "metadata": {},
   "outputs": [
    {
     "name": "stdout",
     "output_type": "stream",
     "text": [
      "BHMie Test Case 14:  m=1.5000-1.0000j, Size parameter = 1.0000\n",
      "\n",
      "                   0.0°     30.0°     60.0°     90.0°\n",
      "BHMIE          1.45117   1.23221   0.81695   0.60621\n",
      "miepython      1.50978   1.25285   0.76857   0.48265\n",
      "ratio          0.96118   0.98353   1.06296   1.25600\n",
      "\n",
      "Note that this test is identical to MIEV0 Test Case 14 above.\n",
      "\n",
      "Wiscombe's code is much more robust than Bohren's so I attribute errors all to Bohren\n"
     ]
    }
   ],
   "source": [
    "\"\"\"\n",
    "BHMie Test Case 14, Refractive index = 1.5000-1.0000j, Size parameter = 1.0000\n",
    "\n",
    "Angle  Cosine              S1                        S2             \n",
    "0.00   1.0000  -8.38663e-01 -8.64763e-01  -8.38663e-01 -8.64763e-01 \n",
    "0.52   0.8660  -8.19225e-01 -8.61719e-01  -7.21779e-01 -7.27856e-01\n",
    "1.05   0.5000  -7.68157e-01 -8.53697e-01  -4.19454e-01 -3.72965e-01\n",
    "1.57   0.0000  -7.03034e-01 -8.43425e-01  -4.44461e-02  6.94424e-02\n",
    "\"\"\"\n",
    "\n",
    "x = 1.0\n",
    "m = 1.5 - 1j\n",
    "mu = np.cos(np.linspace(0, 90, 4) * np.pi / 180)\n",
    "\n",
    "qext, qsca, qback, g = miepython.mie(m, x)\n",
    "unpolar = miepython.i_unpolarized(m, x, mu, norm=\"bohren\")\n",
    "\n",
    "s1_bh = np.empty(4, dtype=complex)\n",
    "s1_bh[0] = -8.38663e-01 - 8.64763e-01 * 1j\n",
    "s1_bh[1] = -8.19225e-01 - 8.61719e-01 * 1j\n",
    "s1_bh[2] = -7.68157e-01 - 8.53697e-01 * 1j\n",
    "s1_bh[3] = -7.03034e-01 - 8.43425e-01 * 1j\n",
    "\n",
    "s2_bh = np.empty(4, dtype=complex)\n",
    "s2_bh[0] = -8.38663e-01 - 8.64763e-01 * 1j\n",
    "s2_bh[1] = -7.21779e-01 - 7.27856e-01 * 1j\n",
    "s2_bh[2] = -4.19454e-01 - 3.72965e-01 * 1j\n",
    "s2_bh[3] = -4.44461e-02 + 6.94424e-02 * 1j\n",
    "\n",
    "# BHMie seems to normalize their intensities to 4 * pi * x**2 * Qsca\n",
    "unpolar_bh = (abs(s1_bh) ** 2 + abs(s2_bh) ** 2) / 2\n",
    "ratio = unpolar_bh / unpolar\n",
    "\n",
    "print(\"BHMie Test Case 14:  m=1.5000-1.0000j, Size parameter = 1.0000\")\n",
    "print()\n",
    "print(\"             %9.1f°%9.1f°%9.1f°%9.1f°\" % (0, 30, 60, 90))\n",
    "print(\n",
    "    \"BHMIE        %9.5f %9.5f %9.5f %9.5f\"\n",
    "    % (unpolar_bh[0], unpolar_bh[1], unpolar_bh[2], unpolar_bh[3])\n",
    ")\n",
    "print(\n",
    "    \"miepython    %9.5f %9.5f %9.5f %9.5f\"\n",
    "    % (unpolar[0], unpolar[1], unpolar[2], unpolar[3])\n",
    ")\n",
    "print(\"ratio        %9.5f %9.5f %9.5f %9.5f\" % (ratio[0], ratio[1], ratio[2], ratio[3]))\n",
    "print()\n",
    "print(\"Note that this test is identical to MIEV0 Test Case 14 above.\")\n",
    "print()\n",
    "print(\n",
    "    \"Wiscombe's code is much more robust than Bohren's so I attribute errors all to Bohren\"\n",
    ")"
   ]
  },
  {
   "cell_type": "markdown",
   "metadata": {},
   "source": [
    "### Bohren & Huffman, water droplets\n",
    "\n",
    "Tiny water droplet (0.26 microns) in clouds has pretty strong forward scattering!  A graph of this is figure 4.9 in Bohren and Huffman's *Absorption and Scattering of Light by Small Particles*.  \n",
    "\n",
    "A bizarre scaling factor of $1/4$ is needed to make the `miepython` results match those in the figure 4.9.  "
   ]
  },
  {
   "cell_type": "code",
   "execution_count": 12,
   "metadata": {},
   "outputs": [
    {
     "data": {
      "image/png": "[encoded data removed]",
      "text/plain": [
       "<Figure size 576x576 with 2 Axes>"
      ]
     },
     "metadata": {
      "needs_background": "light"
     },
     "output_type": "display_data"
    }
   ],
   "source": [
    "x = 3\n",
    "m = 1.33 - 1e-8j\n",
    "\n",
    "theta = np.linspace(0, 180, 181)\n",
    "mu = np.cos(theta * np.pi / 180)\n",
    "\n",
    "scaling_factor = 1 / 4\n",
    "iper = scaling_factor * miepython.i_per(m, x, mu, \"bohren\")\n",
    "ipar = scaling_factor * miepython.i_par(m, x, mu, \"bohren\")\n",
    "\n",
    "P = (iper - ipar) / (iper + ipar)\n",
    "\n",
    "plt.subplots(2, 1, figsize=(8, 8))\n",
    "plt.subplot(2, 1, 1)\n",
    "plt.semilogy(theta, ipar, label=\"$i_{par}$\")\n",
    "plt.semilogy(theta, iper, label=\"$i_{per}$\")\n",
    "plt.xlim(0, 180)\n",
    "plt.xticks(range(0, 181, 30))\n",
    "plt.ylabel(\"i$_{par}$ and i$_{per}$\")\n",
    "plt.legend()\n",
    "plt.grid(True)\n",
    "plt.title(\"Figure 4.9 from Bohren & Huffman\")\n",
    "plt.subplot(2, 1, 2)\n",
    "plt.plot(theta, P)\n",
    "plt.ylim(-1, 1)\n",
    "plt.xticks(range(0, 181, 30))\n",
    "plt.xlim(0, 180)\n",
    "plt.ylabel(\"Polarization\")\n",
    "plt.plot([0, 180], [0, 0], \":k\")\n",
    "plt.xlabel(\"Angle (Degrees)\")\n",
    "plt.show()"
   ]
  },
  {
   "cell_type": "markdown",
   "metadata": {},
   "source": [
    "## Comparison to PyMieScatt\n",
    "\n",
    "This package evidently uses Wiscombe's normalization. \n",
    "    \n",
    "    import PyMieScatt\n",
    "    \n",
    "    print(PyMieScatt.MieS1S2(1.5,0.02,0.75))\n",
    "    print(miepython.mie_S1_S2(1.5,0.02,0.75,norm='wiscombe'))\n",
    "\n",
    "produces::\n",
    "\n",
    "    ((3.690888119953865e-12-2.353141061130335e-06j), (2.7681660899653986e-12-1.7648752402921955e-06j))\n",
    "    ((3.690978962673683e-12+2.3531410334006517e-06j), (2.7682310595192753e-12+1.7648752220853264e-06j))"
   ]
  },
  {
   "cell_type": "code",
   "execution_count": null,
   "metadata": {},
   "outputs": [],
   "source": []
  }
 ],
 "metadata": {
  "kernelspec": {
   "display_name": "Python 3",
   "language": "python",
   "name": "python3"
  },
  "language_info": {
   "codemirror_mode": {
    "name": "ipython",
    "version": 3
   },
   "file_extension": ".py",
   "mimetype": "text/x-python",
   "name": "python",
   "nbconvert_exporter": "python",
   "pygments_lexer": "ipython3",
   "version": "3.9.12"
  },
  "toc": {
   "nav_menu": {},
   "number_sections": true,
   "sideBar": true,
   "skip_h1_title": false,
   "toc_cell": false,
   "toc_position": {
    "height": "796px",
    "left": "0px",
    "right": "1239px",
    "top": "106px",
    "width": "337px"
   },
   "toc_section_display": "block",
   "toc_window_display": true
  }
 },
 "nbformat": 4,
 "nbformat_minor": 4
}
